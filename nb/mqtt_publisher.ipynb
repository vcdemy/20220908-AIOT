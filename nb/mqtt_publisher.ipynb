{
  "nbformat": 4,
  "nbformat_minor": 0,
  "metadata": {
    "colab": {
      "provenance": [],
      "authorship_tag": "ABX9TyOY1q7Heod6eBHG5SiZqofN",
      "include_colab_link": true
    },
    "kernelspec": {
      "name": "python3",
      "display_name": "Python 3"
    },
    "language_info": {
      "name": "python"
    }
  },
  "cells": [
    {
      "cell_type": "markdown",
      "metadata": {
        "id": "view-in-github",
        "colab_type": "text"
      },
      "source": [
        "<a href=\"https://colab.research.google.com/github/vcdemy/20220908-AIOT/blob/main/nb/mqtt_publisher.ipynb\" target=\"_parent\"><img src=\"https://colab.research.google.com/assets/colab-badge.svg\" alt=\"Open In Colab\"/></a>"
      ]
    },
    {
      "cell_type": "code",
      "execution_count": null,
      "metadata": {
        "id": "j7sDZhY2SRBO"
      },
      "outputs": [],
      "source": [
        "!pip install paho-mqtt"
      ]
    },
    {
      "cell_type": "code",
      "source": [
        "import paho.mqtt.client as mqtt\n",
        "from random import randint\n",
        "import time\n",
        "\n",
        "client = mqtt.Client()\n",
        "client.connect(\"broker.hivemq.com\", 1883, 60)\n",
        "client.loop_start()\n",
        "\n",
        "while True:\n",
        "  temp = randint(25, 30)\n",
        "  client.publish(\"vcdemy/temp\", temp)\n",
        "  print(\"temperature:\", temp)\n",
        "  time.sleep(5)"
      ],
      "metadata": {
        "id": "u_oZrv7tS27U"
      },
      "execution_count": null,
      "outputs": []
    }
  ]
}